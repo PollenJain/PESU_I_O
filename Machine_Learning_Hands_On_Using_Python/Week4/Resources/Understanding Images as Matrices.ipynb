{
 "cells": [
  {
   "cell_type": "markdown",
   "metadata": {},
   "source": [
    "<h1> Understanding Images as Matrices </h1>"
   ]
  },
  {
   "cell_type": "code",
   "execution_count": 1,
   "metadata": {},
   "outputs": [],
   "source": [
    "import numpy as np"
   ]
  },
  {
   "cell_type": "markdown",
   "metadata": {},
   "source": [
    "<p> Below is an example of how a colored image of height 2 px and width 4 px would be represented in a computer. </p>"
   ]
  },
  {
   "cell_type": "code",
   "execution_count": 2,
   "metadata": {},
   "outputs": [
    {
     "name": "stdout",
     "output_type": "stream",
     "text": [
      "shape of img1 (2, 4, 3)\n",
      "img1\n",
      "[[[ 0  1  2]\n",
      "  [ 3  4  5]\n",
      "  [ 6  7  8]\n",
      "  [ 9 10 11]]\n",
      "\n",
      " [[12 13 14]\n",
      "  [15 16 17]\n",
      "  [18 19 20]\n",
      "  [21 22 23]]]\n"
     ]
    }
   ],
   "source": [
    "img1 = np.arange(2*4*3).reshape((2,4,3))\n",
    "print(\"shape of img1: \", img1.shape)\n",
    "print(\"img1: \") \n",
    "print(img1) "
   ]
  },
  {
   "cell_type": "markdown",
   "metadata": {},
   "source": [
    "<h2> Split to color channels </h2>\n",
    "<ul>\n",
    "    <li> Column1 represents first channel. </li>\n",
    "    <li> Column2 represents second channel. </li>\n",
    "    <li> Column3 represents third channel. </li>\n",
    "</ul>\n",
    "<p><b>Note:</b> If you read an image using OpenCV (cv2.imread) then the sequence of channel is BGR and NOT RGB </p>"
   ]
  },
  {
   "cell_type": "code",
   "execution_count": 9,
   "metadata": {},
   "outputs": [
    {
     "name": "stdout",
     "output_type": "stream",
     "text": [
      "blue: \n",
      "[[ 0  3  6  9]\n",
      " [12 15 18 21]]\n",
      "green: \n",
      "[[ 1  4  7 10]\n",
      " [13 16 19 22]]\n",
      "blue: \n",
      "[[ 0  3  6  9]\n",
      " [12 15 18 21]]\n",
      "blue.shape:  (2, 4)\n"
     ]
    }
   ],
   "source": [
    "# If image is read using cv2.imread, then it is read as BGR and NOT RGB.\n",
    "blue = img1[:,:,0]\n",
    "green = img1[:,:,1]\n",
    "red = img1[:,:,2]\n",
    "print(\"blue: \")\n",
    "print(blue)\n",
    "print(\"green: \")\n",
    "print(green)\n",
    "print(\"blue: \")\n",
    "print(blue)\n",
    "\n",
    "print(\"blue.shape: \", blue.shape) # Each channel has 2 rows and 4 colums or height = 2 and width = 4"
   ]
  },
  {
   "cell_type": "markdown",
   "metadata": {},
   "source": [
    "<h2> 2 ways to convert an image to a 1 dimensional numpy array </h2>\n",
    "<ol>\n",
    "    <li> Using <b>numpy.flatten</b> function. Prefer this over other. </li>\n",
    "    <li> Using <b>numpy.ravel</b> function </li>\n",
    "</ol>\n",
    "\n",
    "<h3><u> Difference between these two</u> : </h3><br>\n",
    "np.ravel and np.flatten produces the same output.<br>\n",
    "np.flatten returns a copy. Changes made to returned array is not reflected in the original image.<br>\n",
    "np.ravel returns a view whenever possible.<br>\n",
    "If changes are made to vectorised array  later on, changes may be reflected in the image as well.<br>"
   ]
  },
  {
   "cell_type": "code",
   "execution_count": 13,
   "metadata": {},
   "outputs": [
    {
     "name": "stdout",
     "output_type": "stream",
     "text": [
      "Flattend image shape:  (24,)\n",
      "Flattend image: \n",
      "[ 0  1  2  3  4  5  6  7  8  9 10 11 12 13 14 15 16 17 18 19 20 21 22 23]\n"
     ]
    }
   ],
   "source": [
    "# Flatten an image\n",
    "vectorised_image = img1.flatten() # Always returns a new array.\n",
    "print(\"Flattend image shape: \", vectorised_image.shape)\n",
    "print(\"Flattend image: \")\n",
    "print(vectorised_image)"
   ]
  },
  {
   "cell_type": "code",
   "execution_count": 14,
   "metadata": {},
   "outputs": [
    {
     "name": "stdout",
     "output_type": "stream",
     "text": [
      "Shape now:  (24,)\n",
      "vectorised_again: \n",
      "[ 0  1  2  3  4  5  6  7  8  9 10 11 12 13 14 15 16 17 18 19 20 21 22 23]\n"
     ]
    }
   ],
   "source": [
    "# What happens if we use np.ravel()\n",
    "vectorised_again = img1.ravel() # \n",
    "print(\"Shape now: \", vectorised_again.shape)\n",
    "print(\"vectorised_again: \")\n",
    "print(vectorised_again)"
   ]
  },
  {
   "cell_type": "code",
   "execution_count": null,
   "metadata": {},
   "outputs": [],
   "source": []
  }
 ],
 "metadata": {
  "kernelspec": {
   "display_name": "Python 3",
   "language": "python",
   "name": "python3"
  },
  "language_info": {
   "codemirror_mode": {
    "name": "ipython",
    "version": 3
   },
   "file_extension": ".py",
   "mimetype": "text/x-python",
   "name": "python",
   "nbconvert_exporter": "python",
   "pygments_lexer": "ipython3",
   "version": "3.6.4"
  }
 },
 "nbformat": 4,
 "nbformat_minor": 2
}
